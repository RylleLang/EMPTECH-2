{
  "nbformat": 4,
  "nbformat_minor": 0,
  "metadata": {
    "colab": {
      "provenance": []
    },
    "kernelspec": {
      "name": "python3",
      "display_name": "Python 3"
    },
    "language_info": {
      "name": "python"
    }
  },
  "cells": [
    {
      "cell_type": "markdown",
      "source": [
        "Name: Mantaring, Rylle Airon J.\n",
        "\n",
        "Section: CPE-019 / CPE32S4\n",
        "\n",
        "Faculty Adviser: Dr.Monreal\n"
      ],
      "metadata": {
        "id": "lGX2qUZUaI5R"
      }
    },
    {
      "cell_type": "markdown",
      "source": [
        "# SET A\n",
        "\n",
        "**Write a Python program using Pandas to count the number of rows and columns of a DataFrame.**"
      ],
      "metadata": {
        "id": "TGRy88lzbYpR"
      }
    },
    {
      "cell_type": "code",
      "execution_count": 1,
      "metadata": {
        "id": "TNV1mbD1aHTI"
      },
      "outputs": [],
      "source": [
        "import pandas as pd\n",
        "import numpy as np"
      ]
    },
    {
      "cell_type": "code",
      "source": [
        "exam_data = {'name': ['Anastasia', 'Dima', 'Katherine', 'James', 'Emily', 'Michael', 'Matthew', 'Laura', 'Kevin', 'Jonas'],\n",
        "             'score': [12.5, 9, 16.5, np.nan, 9, 20, 14.5, np.nan, 8, 19],\n",
        "             'attempts': [1, 3, 2, 3, 2, 3, 1, 1, 2, 1],\n",
        "             'qualify': ['yes', 'no', 'yes', 'no', 'no', 'yes', 'yes', 'no', 'no', 'yes']}\n",
        "labels = ['a', 'b', 'c', 'd', 'e', 'f', 'g', 'h', 'i', 'j']"
      ],
      "metadata": {
        "id": "nmpvePm6bCsI"
      },
      "execution_count": 2,
      "outputs": []
    },
    {
      "cell_type": "code",
      "source": [
        "df = pd.DataFrame(exam_data, index=labels)"
      ],
      "metadata": {
        "id": "CtER4WoJbCpI"
      },
      "execution_count": 3,
      "outputs": []
    },
    {
      "cell_type": "code",
      "source": [
        "num_rows = df.shape[0]"
      ],
      "metadata": {
        "id": "UlKz8XiCbCmH"
      },
      "execution_count": 4,
      "outputs": []
    },
    {
      "cell_type": "code",
      "source": [
        "num_cols = df.shape[1]"
      ],
      "metadata": {
        "id": "AyVXN2YnbCeA"
      },
      "execution_count": 5,
      "outputs": []
    },
    {
      "cell_type": "markdown",
      "source": [
        "*Print the results*"
      ],
      "metadata": {
        "id": "Nodx1O3ZbSf4"
      }
    },
    {
      "cell_type": "code",
      "source": [
        "# Print the results\n",
        "print(\"Number of rows:\", num_rows)\n",
        "print(\"Number of columns:\", num_cols)"
      ],
      "metadata": {
        "colab": {
          "base_uri": "https://localhost:8080/"
        },
        "id": "GnQPTjkabIR5",
        "outputId": "054fe6bc-b233-423e-8ad3-2564c8fa4379"
      },
      "execution_count": 6,
      "outputs": [
        {
          "output_type": "stream",
          "name": "stdout",
          "text": [
            "Number of rows: 10\n",
            "Number of columns: 4\n"
          ]
        }
      ]
    },
    {
      "cell_type": "markdown",
      "source": [
        "The following Python code illustrates how the Pandas library can be employed to find out the number of rows and columns in a DataFrame. It starts with importing libraries Pandas and NumPy. Then, a dictionary called exam_data is established, which stores data regarding students' names, scores, attempts, and whether they are qualified or not. The keys of the dictionary serve as column indicators, and the values are lists of respective data entries. Another list, labels, is defined to be used as row indices. The DataFrame is then created using pd.DataFrame(exam_data, index=labels).\n",
        "\n",
        "In order to find out the number of rows and columns, the.shape property of the DataFrame is used. df.shape[0] gives the number of rows, and df.shape[1] gives the number of columns. The results are then printed using the print function. The output verifies that the DataFrame has 10 rows and 4 columns, which is as given in the dictionary."
      ],
      "metadata": {
        "id": "DqSsEPf1cz1H"
      }
    }
  ]
}